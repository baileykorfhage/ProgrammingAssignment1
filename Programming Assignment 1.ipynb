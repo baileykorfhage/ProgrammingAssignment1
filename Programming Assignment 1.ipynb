{
 "cells": [
  {
   "cell_type": "markdown",
   "id": "be9fb0fb",
   "metadata": {},
   "source": [
    "# Programming Assignment 1\n",
    "### Bailey Korfhage\n",
    "### Anaconda Python 3\n",
    "### 2022FA CS-150-01"
   ]
  },
  {
   "cell_type": "code",
   "execution_count": 6,
   "id": "3e95063d",
   "metadata": {},
   "outputs": [
    {
     "name": "stdout",
     "output_type": "stream",
     "text": [
      "Enter a floating point number: 36.3\n",
      "Enter an integer: 15\n",
      "The sum is 51.3\n",
      "The difference is 21.299999999999997\n",
      "The product is 544.5\n",
      "The quotient is 2.42\n",
      "The type for the result is <class 'float'>\n"
     ]
    }
   ],
   "source": [
    "number1 = float(input('Enter a floating point number: '))\n",
    "number2 = int(input('Enter an integer: '))\n",
    "print('The sum is', number1+number2)\n",
    "print('The difference is', number1-number2)\n",
    "print('The product is', number1*number2)\n",
    "print('The quotient is', number1/number2)\n",
    "print('The type for the result is', type(number1))"
   ]
  },
  {
   "cell_type": "code",
   "execution_count": null,
   "id": "3756db82",
   "metadata": {},
   "outputs": [],
   "source": []
  }
 ],
 "metadata": {
  "kernelspec": {
   "display_name": "Python 3 (ipykernel)",
   "language": "python",
   "name": "python3"
  },
  "language_info": {
   "codemirror_mode": {
    "name": "ipython",
    "version": 3
   },
   "file_extension": ".py",
   "mimetype": "text/x-python",
   "name": "python",
   "nbconvert_exporter": "python",
   "pygments_lexer": "ipython3",
   "version": "3.9.12"
  }
 },
 "nbformat": 4,
 "nbformat_minor": 5
}
